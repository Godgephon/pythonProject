{
 "cells": [
  {
   "cell_type": "markdown",
   "source": [
    "# 球坐标的拉普拉斯方程"
   ],
   "metadata": {
    "collapsed": false,
    "pycharm": {
     "name": "#%% md\n"
    }
   }
  },
  {
   "cell_type": "markdown",
   "source": [
    "**拉普拉斯方程**\n",
    "$$\\Delta \\varphi = 0$$"
   ],
   "metadata": {
    "collapsed": false,
    "pycharm": {
     "name": "#%% md\n"
    }
   }
  },
  {
   "cell_type": "markdown",
   "source": [
    "**笛卡尔坐标展开：**\n",
    "$$\\frac{\\partial ^2 \\varphi}{\\partial x^2}+\\frac{\\partial ^2 \\varphi}{\\partial y^2}+\\frac{\\partial ^2 \\varphi}{\\partial z^2}=0$$"
   ],
   "metadata": {
    "collapsed": false,
    "pycharm": {
     "name": "#%% md\n"
    }
   }
  },
  {
   "cell_type": "markdown",
   "source": [
    "**接下来推导球坐标展开：**"
   ],
   "metadata": {
    "collapsed": false,
    "pycharm": {
     "name": "#%% md\n"
    }
   }
  },
  {
   "cell_type": "markdown",
   "source": [
    "**笛卡尔坐标到球坐标的变换式：**\n",
    "$$\n",
    "\\left\\{\\begin{array}{ll}x = r sin \\theta cos \\phi, \\\\\n",
    "y = r sin \\theta sin \\phi, \\\\\n",
    "z = r cos \\theta\\end{array}\\right.\n",
    "$$"
   ],
   "metadata": {
    "collapsed": false,
    "pycharm": {
     "name": "#%% md\n"
    }
   }
  },
  {
   "cell_type": "markdown",
   "source": [
    "**使用 *Sympy* 进行符号运算：**"
   ],
   "metadata": {
    "collapsed": false,
    "pycharm": {
     "name": "#%% md\n"
    }
   }
  },
  {
   "cell_type": "code",
   "execution_count": 1,
   "outputs": [],
   "source": [
    "from sympy import *"
   ],
   "metadata": {
    "collapsed": false,
    "pycharm": {
     "name": "#%%\n"
    }
   }
  },
  {
   "cell_type": "code",
   "execution_count": 2,
   "outputs": [],
   "source": [
    "x, y, z = symbols(\"x, y, z\")"
   ],
   "metadata": {
    "collapsed": false,
    "pycharm": {
     "name": "#%%\n"
    }
   }
  },
  {
   "cell_type": "code",
   "execution_count": 4,
   "outputs": [],
   "source": [
    "theta = Function('theta')(x,y,z)\n",
    "r = Function('r')(x,y,z)\n",
    "phi = Function('phi')(x,y,z)"
   ],
   "metadata": {
    "collapsed": false,
    "pycharm": {
     "name": "#%%\n"
    }
   }
  },
  {
   "cell_type": "code",
   "execution_count": 14,
   "outputs": [],
   "source": [
    "expr1 = r*sin(theta)*cos(phi) - x\n",
    "expr2 = r*sin(theta)*sin(phi) - y\n",
    "expr3 = r*cos(theta) - z"
   ],
   "metadata": {
    "collapsed": false,
    "pycharm": {
     "name": "#%%\n"
    }
   }
  },
  {
   "cell_type": "code",
   "execution_count": 32,
   "outputs": [],
   "source": [
    "ress = []\n",
    "for i in [x, y, z]:\n",
    "    res = solve([expr.diff(i) for expr in [expr1, expr2, expr3]],\n",
    "                [func.diff(i) for func in [r, theta, phi]])\n",
    "    ress.append([simplify(res[j])\n",
    "                 for j in [func.diff(i)\n",
    "                              for func in [r, theta, phi]]])\n",
    "del res"
   ],
   "metadata": {
    "collapsed": false,
    "pycharm": {
     "name": "#%%\n"
    }
   }
  },
  {
   "cell_type": "code",
   "execution_count": 41,
   "outputs": [
    {
     "data": {
      "text/plain": "Matrix([\n[sin(theta(x, y, z))*cos(phi(x, y, z)), cos(phi(x, y, z))*cos(theta(x, y, z))/r(x, y, z), -sin(phi(x, y, z))/(r(x, y, z)*sin(theta(x, y, z)))],\n[sin(phi(x, y, z))*sin(theta(x, y, z)), sin(phi(x, y, z))*cos(theta(x, y, z))/r(x, y, z),  cos(phi(x, y, z))/(r(x, y, z)*sin(theta(x, y, z)))],\n[                  cos(theta(x, y, z)),                  -sin(theta(x, y, z))/r(x, y, z),                                                   0]])",
      "text/latex": "$\\displaystyle \\left[\\begin{matrix}\\sin{\\left(\\theta{\\left(x,y,z \\right)} \\right)} \\cos{\\left(\\phi{\\left(x,y,z \\right)} \\right)} & \\frac{\\cos{\\left(\\phi{\\left(x,y,z \\right)} \\right)} \\cos{\\left(\\theta{\\left(x,y,z \\right)} \\right)}}{r{\\left(x,y,z \\right)}} & - \\frac{\\sin{\\left(\\phi{\\left(x,y,z \\right)} \\right)}}{r{\\left(x,y,z \\right)} \\sin{\\left(\\theta{\\left(x,y,z \\right)} \\right)}}\\\\\\sin{\\left(\\phi{\\left(x,y,z \\right)} \\right)} \\sin{\\left(\\theta{\\left(x,y,z \\right)} \\right)} & \\frac{\\sin{\\left(\\phi{\\left(x,y,z \\right)} \\right)} \\cos{\\left(\\theta{\\left(x,y,z \\right)} \\right)}}{r{\\left(x,y,z \\right)}} & \\frac{\\cos{\\left(\\phi{\\left(x,y,z \\right)} \\right)}}{r{\\left(x,y,z \\right)} \\sin{\\left(\\theta{\\left(x,y,z \\right)} \\right)}}\\\\\\cos{\\left(\\theta{\\left(x,y,z \\right)} \\right)} & - \\frac{\\sin{\\left(\\theta{\\left(x,y,z \\right)} \\right)}}{r{\\left(x,y,z \\right)}} & 0\\end{matrix}\\right]$"
     },
     "execution_count": 41,
     "metadata": {},
     "output_type": "execute_result"
    }
   ],
   "source": [
    "J = Matrix(ress)\n",
    "J"
   ],
   "metadata": {
    "collapsed": false,
    "pycharm": {
     "name": "#%%\n"
    }
   }
  },
  {
   "cell_type": "markdown",
   "source": [
    "**最后我们得到了所有的解，即转换系数，它们的总体组成一个转换矩阵：**"
   ],
   "metadata": {
    "collapsed": false,
    "pycharm": {
     "name": "#%% md\n"
    }
   }
  },
  {
   "cell_type": "markdown",
   "source": [
    "$$\n",
    "\\left[ \\begin{matrix}r_x & \\theta_x & \\phi_x\\\\\n",
    "r_y & \\theta_y & \\phi_y\\\\\n",
    "r_z & \\theta_z & \\phi_z\n",
    "\\end{matrix}\\right] =\n",
    "\\left[ \\begin{matrix}sin \\theta cos \\phi & \\frac{cos \\phi cos \\theta}{r} & -\\frac{sin \\phi}{r sin \\theta}\\\\\n",
    "sin \\phi sin \\theta & \\frac{sin \\phi cos \\theta}{r} & \\frac{cos \\phi}{r sin \\theta}\\\\\n",
    "cos \\theta & -\\frac{sin \\theta}{r} & 0\n",
    "\\end{matrix} \\right]\n",
    "$$"
   ],
   "metadata": {
    "collapsed": false,
    "pycharm": {
     "name": "#%% md\n"
    }
   }
  },
  {
   "cell_type": "markdown",
   "source": [
    "**根据链式法则,**\n",
    "$$\\begin{array}{l} \\frac{\\partial}{\\partial x} =\n",
    "r_x \\frac{\\partial}{\\partial r}+\\theta_x \\frac{\\partial}{\\partial theta}+\\phi_x \\frac{\\partial}{\\partial \\phi}\\\\\n",
    "\\frac{\\partial}{\\partial y} =\n",
    "r_y \\frac{\\partial}{\\partial r}+\\theta_y \\frac{\\partial}{\\partial theta}+\\phi_y \\frac{\\partial}{\\partial \\phi}\\\\\n",
    "\\frac{\\partial}{\\partial z} =\n",
    "r_z \\frac{\\partial}{\\partial r}+\\theta_z \\frac{\\partial}{\\partial theta}+\\phi_z \\frac{\\partial}{\\partial \\phi}\n",
    "\\end{array}$$"
   ],
   "metadata": {
    "collapsed": false,
    "pycharm": {
     "name": "#%% md\n"
    }
   }
  },
  {
   "cell_type": "markdown",
   "source": [
    "**写成矩阵形式：**"
   ],
   "metadata": {
    "collapsed": false,
    "pycharm": {
     "name": "#%% md\n"
    }
   }
  },
  {
   "cell_type": "markdown",
   "source": [
    "$$\n",
    "\\left[\\begin{matrix}\\frac{\\partial}{\\partial x}\\\\\n",
    "\\frac{\\partial}{\\partial y}\\\\\n",
    "\\frac{\\partial}{\\partial z}\n",
    "\\end{matrix}\\right] =\n",
    "\\left[ \\begin{matrix}r_x & \\theta_x & \\phi_x\\\\\n",
    "r_y & \\theta_y & \\phi_y\\\\\n",
    "r_z & \\theta_z & \\phi_z\n",
    "\\end{matrix}\\right]\n",
    "\\left[\\begin{matrix}\\frac{\\partial}{\\partial r}\\\\\n",
    "\\frac{\\partial}{\\partial \\theta}\\\\\n",
    "\\frac{\\partial}{\\partial \\phi}\n",
    "\\end{matrix}\\right]\n",
    "$$"
   ],
   "metadata": {
    "collapsed": false,
    "pycharm": {
     "name": "#%% md\n"
    }
   }
  },
  {
   "cell_type": "code",
   "execution_count": 44,
   "outputs": [],
   "source": [
    "vphi = Function('varphi')(r, theta, phi)"
   ],
   "metadata": {
    "collapsed": false,
    "pycharm": {
     "name": "#%%\n"
    }
   }
  },
  {
   "cell_type": "code",
   "execution_count": 45,
   "outputs": [],
   "source": [
    "v = Matrix([[vphi.diff(r)], [vphi.diff(theta)], [vphi.diff(phi)]])"
   ],
   "metadata": {
    "collapsed": false,
    "pycharm": {
     "name": "#%%\n"
    }
   }
  },
  {
   "cell_type": "code",
   "execution_count": 46,
   "outputs": [],
   "source": [
    "w = J * v"
   ],
   "metadata": {
    "collapsed": false,
    "pycharm": {
     "name": "#%%\n"
    }
   }
  },
  {
   "cell_type": "code",
   "execution_count": 49,
   "outputs": [],
   "source": [
    "w2 = w.T*w"
   ],
   "metadata": {
    "collapsed": false,
    "pycharm": {
     "name": "#%%\n"
    }
   }
  },
  {
   "cell_type": "code",
   "execution_count": 54,
   "outputs": [],
   "source": [
    "w2 = simplify(w2)[0]"
   ],
   "metadata": {
    "collapsed": false,
    "pycharm": {
     "name": "#%%\n"
    }
   }
  },
  {
   "cell_type": "code",
   "execution_count": 55,
   "outputs": [
    {
     "data": {
      "text/plain": "Derivative(varphi(r(x, y, z), theta(x, y, z), phi(x, y, z)), r(x, y, z))**2 + Derivative(varphi(r(x, y, z), theta(x, y, z), phi(x, y, z)), theta(x, y, z))**2/r(x, y, z)**2 + Derivative(varphi(r(x, y, z), theta(x, y, z), phi(x, y, z)), phi(x, y, z))**2/(r(x, y, z)**2*sin(theta(x, y, z))**2)",
      "text/latex": "$\\displaystyle \\left(\\frac{\\partial}{\\partial r{\\left(x,y,z \\right)}} \\varphi{\\left(r{\\left(x,y,z \\right)},\\theta{\\left(x,y,z \\right)},\\phi{\\left(x,y,z \\right)} \\right)}\\right)^{2} + \\frac{\\left(\\frac{\\partial}{\\partial \\theta{\\left(x,y,z \\right)}} \\varphi{\\left(r{\\left(x,y,z \\right)},\\theta{\\left(x,y,z \\right)},\\phi{\\left(x,y,z \\right)} \\right)}\\right)^{2}}{r^{2}{\\left(x,y,z \\right)}} + \\frac{\\left(\\frac{\\partial}{\\partial \\phi{\\left(x,y,z \\right)}} \\varphi{\\left(r{\\left(x,y,z \\right)},\\theta{\\left(x,y,z \\right)},\\phi{\\left(x,y,z \\right)} \\right)}\\right)^{2}}{r^{2}{\\left(x,y,z \\right)} \\sin^{2}{\\left(\\theta{\\left(x,y,z \\right)} \\right)}}$"
     },
     "execution_count": 55,
     "metadata": {},
     "output_type": "execute_result"
    }
   ],
   "source": [
    "expand(w2)"
   ],
   "metadata": {
    "collapsed": false,
    "pycharm": {
     "name": "#%%\n"
    }
   }
  },
  {
   "cell_type": "markdown",
   "source": [
    "**上述过程与真实的计算在形式上是一致的，不过要把次幂看做偏导的阶数**"
   ],
   "metadata": {
    "collapsed": false,
    "pycharm": {
     "name": "#%% md\n"
    }
   }
  },
  {
   "cell_type": "markdown",
   "source": [
    "**最后我们得到了球坐标系下的拉普拉斯方程：**"
   ],
   "metadata": {
    "collapsed": false,
    "pycharm": {
     "name": "#%% md\n"
    }
   }
  },
  {
   "cell_type": "markdown",
   "source": [
    "$$\n",
    "\\frac{\\partial ^2}{\\partial r^2} + \\frac{1}{r^2}\\frac{\\partial ^2}{\\partial \\theta^2} + \\frac{1}{r^2sin^2\\theta}\\frac{\\partial ^2}{\\partial \\phi^2} = 0\n",
    "$$"
   ],
   "metadata": {
    "collapsed": false,
    "pycharm": {
     "name": "#%% md\n"
    }
   }
  }
 ],
 "metadata": {
  "kernelspec": {
   "display_name": "Python 3",
   "language": "python",
   "name": "python3"
  },
  "language_info": {
   "codemirror_mode": {
    "name": "ipython",
    "version": 2
   },
   "file_extension": ".py",
   "mimetype": "text/x-python",
   "name": "python",
   "nbconvert_exporter": "python",
   "pygments_lexer": "ipython2",
   "version": "2.7.6"
  }
 },
 "nbformat": 4,
 "nbformat_minor": 0
}